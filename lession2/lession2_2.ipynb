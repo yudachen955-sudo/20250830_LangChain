{
 "cells": [
  {
   "cell_type": "code",
   "execution_count": null,
   "id": "ff5e6f6c",
   "metadata": {},
   "outputs": [],
   "source": [
    "name = \"小明\"\n",
    "age = 18\n",
    "height = 175.5\n",
    "is_student = True"
   ]
  }
 ],
 "metadata": {
  "kernelspec": {
   "display_name": "langchain",
   "language": "python",
   "name": "python3"
  },
  "language_info": {
   "name": "python",
   "version": "3.11.13"
  }
 },
 "nbformat": 4,
 "nbformat_minor": 5
}
