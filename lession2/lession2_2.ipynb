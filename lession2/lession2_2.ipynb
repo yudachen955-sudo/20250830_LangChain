{
 "cells": [
  {
   "cell_type": "code",
   "execution_count": 3,
   "id": "ff5e6f6c",
   "metadata": {},
   "outputs": [
    {
     "name": "stdout",
     "output_type": "stream",
     "text": [
      "<class 'str'>\n",
      "=======\n",
      "<class 'int'>\n",
      "=======\n",
      "<class 'float'>\n",
      "=======\n",
      "<class 'bool'>\n"
     ]
    }
   ],
   "source": [
    "name = \"小明\"\n",
    "print(type(name))\n",
    "print(\"=======\")\n",
    "age = 18\n",
    "print(type(age))\n",
    "print(\"=======\")\n",
    "height = 175.5\n",
    "print(type(height))\n",
    "print(\"=======\")\n",
    "is_student = True\n",
    "print(type(is_student))\n",
    "\n",
    "\n"
   ]
  }
 ],
 "metadata": {
  "kernelspec": {
   "display_name": "langchain",
   "language": "python",
   "name": "python3"
  },
  "language_info": {
   "codemirror_mode": {
    "name": "ipython",
    "version": 3
   },
   "file_extension": ".py",
   "mimetype": "text/x-python",
   "name": "python",
   "nbconvert_exporter": "python",
   "pygments_lexer": "ipython3",
   "version": "3.11.13"
  }
 },
 "nbformat": 4,
 "nbformat_minor": 5
}
