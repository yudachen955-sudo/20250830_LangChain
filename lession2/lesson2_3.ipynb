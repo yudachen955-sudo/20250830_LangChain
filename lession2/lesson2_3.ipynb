{
 "cells": [
  {
   "cell_type": "code",
   "execution_count": null,
   "id": "8111c000",
   "metadata": {},
   "outputs": [],
   "source": [
    "# 自訂函數：列出 1~100 的偶數\n",
    "\n",
    "def list_even_numbers():\n",
    "    \"\"\"\n",
    "    列出 1 到 100 之間的所有偶數\n",
    "    \"\"\"\n",
    "    even_numbers = []\n",
    "    for i in range(1, 101):\n",
    "        if i % 2 == 0:  # 如果 i 除以 2 的餘數為 0，則為偶數\n",
    "            even_numbers.append(i)\n",
    "    return even_numbers\n",
    "\n",
    "# 呼叫函數並顯示結果\n",
    "print(\"1 到 100 的偶數：\")\n",
    "even_list = list_even_numbers()\n",
    "print(even_list)\n",
    "\n",
    "print(f\"\\n總共有 {len(even_list)} 個偶數\")\n"
   ]
  },
  {
   "cell_type": "code",
   "execution_count": null,
   "id": "acf00e32",
   "metadata": {},
   "outputs": [],
   "source": [
    "# 更進階的版本：可以自訂範圍的偶數函數\n",
    "\n",
    "def list_even_numbers_range(start, end):\n",
    "    \"\"\"\n",
    "    列出指定範圍內的所有偶數\n",
    "    \n",
    "    參數:\n",
    "    start: 起始數字\n",
    "    end: 結束數字\n",
    "    \"\"\"\n",
    "    even_numbers = []\n",
    "    for i in range(start, end + 1):\n",
    "        if i % 2 == 0:\n",
    "            even_numbers.append(i)\n",
    "    return even_numbers\n",
    "\n",
    "# 測試不同的範圍\n",
    "print(\"1 到 20 的偶數：\")\n",
    "print(list_even_numbers_range(1, 20))\n",
    "\n",
    "print(\"\\n50 到 70 的偶數：\")\n",
    "print(list_even_numbers_range(50, 70))\n",
    "\n",
    "print(\"\\n1 到 100 的偶數（使用新函數）：\")\n",
    "print(list_even_numbers_range(1, 100))\n"
   ]
  },
  {
   "cell_type": "code",
   "execution_count": null,
   "id": "be343d09",
   "metadata": {},
   "outputs": [],
   "source": [
    "# 使用列表推導式（List Comprehension）的簡潔版本\n",
    "\n",
    "def list_even_numbers_simple(start=1, end=100):\n",
    "    \"\"\"\n",
    "    使用列表推導式列出指定範圍內的偶數\n",
    "    \n",
    "    參數:\n",
    "    start: 起始數字（預設為 1）\n",
    "    end: 結束數字（預設為 100）\n",
    "    \"\"\"\n",
    "    return [i for i in range(start, end + 1) if i % 2 == 0]\n",
    "\n",
    "# 測試函數\n",
    "print(\"使用列表推導式的版本：\")\n",
    "print(\"1 到 100 的偶數：\")\n",
    "print(list_even_numbers_simple())\n",
    "\n",
    "print(\"\\n1 到 30 的偶數：\")\n",
    "print(list_even_numbers_simple(1, 30))\n",
    "\n",
    "print(\"\\n10 到 50 的偶數：\")\n",
    "print(list_even_numbers_simple(10, 50))\n"
   ]
  },
  {
   "cell_type": "code",
   "execution_count": 15,
   "id": "07faaff2",
   "metadata": {},
   "outputs": [
    {
     "name": "stdout",
     "output_type": "stream",
     "text": [
      "小聖誕樹（3層）：\n",
      "🎄 聖誕樹 🎄\n",
      "====================\n",
      "  *\n",
      " ***\n",
      "*****\n",
      "  |||\n",
      "  |||\n",
      "====================\n",
      "\n",
      "中等聖誕樹（5層）：\n",
      "🎄 聖誕樹 🎄\n",
      "====================\n",
      "    *\n",
      "   ***\n",
      "  *****\n",
      " *******\n",
      "*********\n",
      "    |||\n",
      "    |||\n",
      "====================\n",
      "\n",
      "大聖誕樹（7層）：\n",
      "🎄 聖誕樹 🎄\n",
      "====================\n",
      "      *\n",
      "     ***\n",
      "    *****\n",
      "   *******\n",
      "  *********\n",
      " ***********\n",
      "*************\n",
      "      |||\n",
      "      |||\n",
      "====================\n"
     ]
    }
   ],
   "source": [
    "# 自訂函數：列印聖誕樹\n",
    "\n",
    "def print_christmas_tree(height):\n",
    "    \"\"\"\n",
    "    列印聖誕樹\n",
    "    \n",
    "    參數:\n",
    "    height: 聖誕樹的高度（層數）\n",
    "    \"\"\"\n",
    "    print(\"🎄 聖誕樹 🎄\")\n",
    "    print(\"=\" * 20)\n",
    "    \n",
    "    # 列印聖誕樹的每一層\n",
    "    for i in range(1, height + 1):\n",
    "        # 計算空格數量（讓樹居中）\n",
    "        spaces = \" \" * (height - i)\n",
    "        # 計算星號數量\n",
    "        stars = \"*\" * (2 * i - 1)\n",
    "        print(f\"{spaces}{stars}\")\n",
    "    \n",
    "    # 列印樹幹\n",
    "    trunk_spaces = \" \" * (height - 1)\n",
    "    print(f\"{trunk_spaces}|||\")\n",
    "    print(f\"{trunk_spaces}|||\")\n",
    "    print(\"=\" * 20)\n",
    "\n",
    "# 測試不同高度的聖誕樹\n",
    "print(\"小聖誕樹（3層）：\")\n",
    "print_christmas_tree(3)\n",
    "\n",
    "print(\"\\n中等聖誕樹（5層）：\")\n",
    "print_christmas_tree(5)\n",
    "\n",
    "print(\"\\n大聖誕樹（7層）：\")\n",
    "print_christmas_tree(7)\n"
   ]
  },
  {
   "cell_type": "code",
   "execution_count": null,
   "id": "f4d53423",
   "metadata": {},
   "outputs": [],
   "source": [
    "# 進階版本：彩色聖誕樹（使用不同符號）\n",
    "\n",
    "def print_fancy_christmas_tree(height):\n",
    "    \"\"\"\n",
    "    列印進階版聖誕樹（使用不同符號）\n",
    "    \n",
    "    參數:\n",
    "    height: 聖誕樹的高度（層數）\n",
    "    \"\"\"\n",
    "    print(\"🎄 進階聖誕樹 🎄\")\n",
    "    print(\"=\" * 25)\n",
    "    \n",
    "    # 列印聖誕樹的每一層\n",
    "    for i in range(1, height + 1):\n",
    "        # 計算空格數量\n",
    "        spaces = \" \" * (height - i)\n",
    "        \n",
    "        # 使用不同符號來裝飾\n",
    "        if i == 1:\n",
    "            # 頂部用特殊符號\n",
    "            stars = \"★\"\n",
    "        elif i % 2 == 0:\n",
    "            # 偶數層用星號\n",
    "            stars = \"*\" * (2 * i - 1)\n",
    "        else:\n",
    "            # 奇數層用加號\n",
    "            stars = \"+\" * (2 * i - 1)\n",
    "        \n",
    "        print(f\"{spaces}{stars}\")\n",
    "    \n",
    "    # 列印樹幹\n",
    "    trunk_spaces = \" \" * (height - 1)\n",
    "    print(f\"{trunk_spaces}███\")\n",
    "    print(f\"{trunk_spaces}███\")\n",
    "    print(\"=\" * 25)\n",
    "\n",
    "# 測試進階版聖誕樹\n",
    "print_fancy_christmas_tree(6)\n"
   ]
  },
  {
   "cell_type": "code",
   "execution_count": null,
   "id": "0feebf65",
   "metadata": {},
   "outputs": [],
   "source": [
    "# 互動版本：讓使用者輸入聖誕樹高度\n",
    "\n",
    "def interactive_christmas_tree():\n",
    "    \"\"\"\n",
    "    互動式聖誕樹生成器\n",
    "    \"\"\"\n",
    "    print(\"🎄 聖誕樹生成器 🎄\")\n",
    "    print(\"=\" * 20)\n",
    "    \n",
    "    try:\n",
    "        height = int(input(\"請輸入聖誕樹的高度（建議 3-10 層）：\"))\n",
    "        \n",
    "        if height < 1:\n",
    "            print(\"高度必須大於 0！\")\n",
    "            return\n",
    "        \n",
    "        if height > 15:\n",
    "            print(\"高度太大，建議不超過 15 層！\")\n",
    "            return\n",
    "        \n",
    "        print(f\"\\n正在生成 {height} 層的聖誕樹...\")\n",
    "        print_christmas_tree(height)\n",
    "        \n",
    "    except ValueError:\n",
    "        print(\"請輸入有效的數字！\")\n",
    "\n",
    "# 執行互動式聖誕樹\n",
    "interactive_christmas_tree()\n"
   ]
  },
  {
   "cell_type": "code",
   "execution_count": 11,
   "id": "7ce4e438",
   "metadata": {},
   "outputs": [
    {
     "name": "stdout",
     "output_type": "stream",
     "text": [
      "及格\n"
     ]
    }
   ],
   "source": [
    "score=50\n",
    "if score >= 90:\n",
    "    print(\"優等\")\n",
    "elif score >= 80:\n",
    "    print(\"良好\")\n",
    "else:\n",
    "    print(\"及格\")\n"
   ]
  },
  {
   "cell_type": "code",
   "execution_count": 12,
   "id": "91782e02",
   "metadata": {},
   "outputs": [
    {
     "name": "stdout",
     "output_type": "stream",
     "text": [
      "及格\n"
     ]
    }
   ],
   "source": [
    "score = 60\n",
    "if score >= 90:\n",
    "    print(\"優等\")\n",
    "elif score >= 80:\n",
    "    print(\"良好\")\n",
    "elif score >= 70:\n",
    "    print(\"中等\")\n",
    "else:\n",
    "    print(\"及格\")"
   ]
  },
  {
   "cell_type": "code",
   "execution_count": 13,
   "id": "632e0ce6",
   "metadata": {},
   "outputs": [
    {
     "name": "stdout",
     "output_type": "stream",
     "text": [
      "55\n"
     ]
    }
   ],
   "source": [
    "j=0\n",
    "for i in range(11):\n",
    "    j+=i\n",
    "print(j)\n",
    "\n"
   ]
  },
  {
   "cell_type": "code",
   "execution_count": 18,
   "id": "e914183c",
   "metadata": {},
   "outputs": [
    {
     "name": "stdout",
     "output_type": "stream",
     "text": [
      "   *   \n",
      "  ***  \n",
      " ***** \n",
      "*******\n",
      "   |   \n"
     ]
    }
   ],
   "source": [
    "def print_christmas_tree():\n",
    "    # 使用迴圈列印樹葉部分\n",
    "    n = 4  # 樹葉層數\n",
    "    for i in range(n):\n",
    "        stars = '*' * (2 * i + 1)\n",
    "        spaces = ' ' * (n - i - 1)\n",
    "        print(spaces + stars + spaces)\n",
    "    # 樹幹部分\n",
    "    print(\"   |   \")\n",
    "\n",
    "# 呼叫函式，列印聖誕樹\n",
    "print_christmas_tree()"
   ]
  },
  {
   "cell_type": "code",
   "execution_count": 21,
   "id": "aa1c54eb",
   "metadata": {},
   "outputs": [
    {
     "name": "stdout",
     "output_type": "stream",
     "text": [
      "圓面積=321.17,圓周長=63.53\n"
     ]
    }
   ],
   "source": [
    "#自訂一個fution,會計算圓面積        \n",
    "import math\n",
    "\n",
    "def circle_area_and_circumference(radius):\n",
    "    area = math.pi * radius ** 2\n",
    "    circumference = 2 * math.pi * radius\n",
    "    return area, circumference\n",
    "\n",
    "# 使用 input 讓使用者輸入半徑\n",
    "r = float(input(\"請輸入圓的半徑：\"))\n",
    "area, circumference = circle_area_and_circumference(r)\n",
    "print(f\"圓面積={area:.2f},圓周長={circumference:.2f}\")"
   ]
  },
  {
   "cell_type": "code",
   "execution_count": null,
   "id": "7152da58",
   "metadata": {},
   "outputs": [
    {
     "name": "stdout",
     "output_type": "stream",
     "text": [
      "66\n"
     ]
    }
   ],
   "source": [
    "#自訂一個function，會算迴圈的總和，並使用input取得n值\n",
    "def sum_of_loop(n):\n",
    "    sum = 0\n",
    "    for i in range(n):\n",
    "        sum += i\n",
    "    return sum\n",
    "\n",
    "n = float(input(\"請輸入一個浮點數n：\"))\n",
    "print(sum_of_loop(n))\n"
   ]
  },
  {
   "cell_type": "code",
   "execution_count": null,
   "id": "2c5a4133",
   "metadata": {},
   "outputs": [],
   "source": []
  }
 ],
 "metadata": {
  "kernelspec": {
   "display_name": "langchain",
   "language": "python",
   "name": "python3"
  },
  "language_info": {
   "codemirror_mode": {
    "name": "ipython",
    "version": 3
   },
   "file_extension": ".py",
   "mimetype": "text/x-python",
   "name": "python",
   "nbconvert_exporter": "python",
   "pygments_lexer": "ipython3",
   "version": "3.11.13"
  }
 },
 "nbformat": 4,
 "nbformat_minor": 5
}
