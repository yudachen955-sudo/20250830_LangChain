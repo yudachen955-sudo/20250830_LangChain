{
 "cells": [
  {
   "cell_type": "markdown",
   "id": "0b6549cb",
   "metadata": {},
   "source": [
    "## python 數學運算"
   ]
  },
  {
   "cell_type": "markdown",
   "id": "c7a0ae82",
   "metadata": {},
   "source": [
    "```\n",
    "# 基本語法：變數名稱 = 值\n",
    "name = \"小明\"\n",
    "age = 18\n",
    "height = 175.5\n",
    "is_student = True\n",
    "```"
   ]
  },
  {
   "cell_type": "code",
   "execution_count": 1,
   "id": "5262887e",
   "metadata": {},
   "outputs": [
    {
     "name": "stdout",
     "output_type": "stream",
     "text": [
      "小明\n",
      "<class 'str'>\n",
      "================\n",
      "18\n",
      "<class 'int'>\n",
      "=================\n",
      "175.5\n",
      "<class 'float'>\n",
      "===============\n",
      "True\n",
      "<class 'bool'>\n"
     ]
    }
   ],
   "source": [
    "name = \"小明\"\n",
    "print(name)\n",
    "print(type(name)) #呼叫function\n",
    "print('================')\n",
    "\n",
    "\n",
    "age = 18\n",
    "print(age)\n",
    "print(type(age))\n",
    "print('=================')\n",
    "\n",
    "height = 175.5\n",
    "print(height)\n",
    "print(type(height))\n",
    "print('===============')\n",
    "\n",
    "\n",
    "is_student = True\n",
    "print(is_student)\n",
    "print(type(is_student))"
   ]
  },
  {
   "cell_type": "code",
   "execution_count": null,
   "id": "e93fdd45",
   "metadata": {},
   "outputs": [
    {
     "name": "stdout",
     "output_type": "stream",
     "text": [
      "name變數儲存的值是小明,資料類型是:<class 'str'>.\n",
      "age變數儲存的值是18,資料類型是:<class 'int'>.\n"
     ]
    }
   ],
   "source": [
    "print(\"name變數儲存的值是\",name,\",資料類型是:\",type(name),sep='',end='.\\n')\n",
    "print(\"age變數儲存的值是\",age,\",資料類型是:\",type(age),sep='',end='.\\n')"
   ]
  },
  {
   "cell_type": "code",
   "execution_count": 3,
   "id": "548b119e",
   "metadata": {},
   "outputs": [
    {
     "name": "stdout",
     "output_type": "stream",
     "text": [
      "name變數儲存的值是小明,資料類型是:<class 'str'>.\n",
      "age變數儲存的值是18,資料類型是:<class 'int'>.\n"
     ]
    }
   ],
   "source": [
    "print(f\"name變數儲存的值是{name},資料類型是:{type(name)}.\",end='\\n')\n",
    "print(f\"age變數儲存的值是{age},資料類型是:{type(age)}.\",end='\\n')"
   ]
  },
  {
   "cell_type": "markdown",
   "id": "5989acdb",
   "metadata": {},
   "source": [
    "## 三角形邊長運算\n",
    "\n",
    "讓我們來實作一個完整的三角形邊長計算程式，包括：\n",
    "1. 三角形邊長驗證\n",
    "2. 周長計算\n",
    "3. 面積計算（海倫公式）\n",
    "4. 三角形類型判斷\n"
   ]
  },
  {
   "cell_type": "code",
   "execution_count": null,
   "id": "d57d1c06",
   "metadata": {},
   "outputs": [],
   "source": [
    "# 1. 三角形邊長驗證函數\n",
    "def is_valid_triangle(a, b, c):\n",
    "    \"\"\"\n",
    "    驗證三條邊是否能構成三角形\n",
    "    三角形不等式：任意兩邊之和大於第三邊\n",
    "    \"\"\"\n",
    "    if a <= 0 or b <= 0 or c <= 0:\n",
    "        return False, \"邊長必須大於0\"\n",
    "    \n",
    "    if a + b > c and a + c > b and b + c > a:\n",
    "        return True, \"可以構成三角形\"\n",
    "    else:\n",
    "        return False, \"無法構成三角形（不滿足三角形不等式）\"\n",
    "\n",
    "# 測試三角形邊長驗證\n",
    "print(\"=== 三角形邊長驗證測試 ===\")\n",
    "test_cases = [\n",
    "    (3, 4, 5),    # 直角三角形\n",
    "    (1, 1, 1),    # 等邊三角形\n",
    "    (2, 3, 4),    # 一般三角形\n",
    "    (1, 2, 5),    # 無法構成三角形\n",
    "    (0, 3, 4),    # 邊長為0\n",
    "    (-1, 2, 3),   # 負邊長\n",
    "]\n",
    "\n",
    "for a, b, c in test_cases:\n",
    "    is_valid, message = is_valid_triangle(a, b, c)\n",
    "    print(f\"邊長 {a}, {b}, {c}: {message}\")\n"
   ]
  },
  {
   "cell_type": "code",
   "execution_count": null,
   "id": "18650472",
   "metadata": {},
   "outputs": [],
   "source": [
    "# 2. 三角形周長計算\n",
    "def triangle_perimeter(a, b, c):\n",
    "    \"\"\"\n",
    "    計算三角形周長\n",
    "    周長 = 邊長a + 邊長b + 邊長c\n",
    "    \"\"\"\n",
    "    return a + b + c\n",
    "\n",
    "# 測試周長計算\n",
    "print(\"=== 三角形周長計算測試 ===\")\n",
    "test_triangles = [\n",
    "    (3, 4, 5),    # 周長 = 12\n",
    "    (1, 1, 1),    # 周長 = 3\n",
    "    (2, 3, 4),    # 周長 = 9\n",
    "    (5, 12, 13),  # 周長 = 30\n",
    "]\n",
    "\n",
    "for a, b, c in test_triangles:\n",
    "    perimeter = triangle_perimeter(a, b, c)\n",
    "    print(f\"邊長 {a}, {b}, {c} 的周長 = {perimeter}\")\n"
   ]
  },
  {
   "cell_type": "code",
   "execution_count": null,
   "id": "3c2d3280",
   "metadata": {},
   "outputs": [],
   "source": [
    "# 3. 三角形面積計算（海倫公式）\n",
    "import math\n",
    "\n",
    "def triangle_area(a, b, c):\n",
    "    \"\"\"\n",
    "    使用海倫公式計算三角形面積\n",
    "    海倫公式：面積 = √[s(s-a)(s-b)(s-c)]\n",
    "    其中 s = (a+b+c)/2 是半周長\n",
    "    \"\"\"\n",
    "    # 先驗證是否為有效三角形\n",
    "    is_valid, message = is_valid_triangle(a, b, c)\n",
    "    if not is_valid:\n",
    "        return None, message\n",
    "    \n",
    "    # 計算半周長\n",
    "    s = (a + b + c) / 2\n",
    "    \n",
    "    # 使用海倫公式計算面積\n",
    "    area = math.sqrt(s * (s - a) * (s - b) * (s - c))\n",
    "    \n",
    "    return area, \"計算成功\"\n",
    "\n",
    "# 測試面積計算\n",
    "print(\"=== 三角形面積計算測試 ===\")\n",
    "test_triangles = [\n",
    "    (3, 4, 5),    # 直角三角形，面積 = 6\n",
    "    (1, 1, 1),    # 等邊三角形，面積 ≈ 0.433\n",
    "    (2, 3, 4),    # 一般三角形\n",
    "    (5, 12, 13),  # 直角三角形，面積 = 30\n",
    "    (1, 2, 5),    # 無效三角形\n",
    "]\n",
    "\n",
    "for a, b, c in test_triangles:\n",
    "    area, message = triangle_area(a, b, c)\n",
    "    if area is not None:\n",
    "        print(f\"邊長 {a}, {b}, {c} 的面積 = {area:.3f}\")\n",
    "    else:\n",
    "        print(f\"邊長 {a}, {b}, {c}: {message}\")\n"
   ]
  },
  {
   "cell_type": "code",
   "execution_count": 5,
   "id": "00feb61c",
   "metadata": {},
   "outputs": [
    {
     "name": "stdout",
     "output_type": "stream",
     "text": [
      "斜邊長度=6.403\n"
     ]
    }
   ],
   "source": [
    "import math\n",
    "adjacent_side = 5\n",
    "oppsite_side = 4\n",
    "print(f\"斜邊長度={math.sqrt(adjacent_side **2 + oppsite_side ** 2):.3f}\")\n"
   ]
  },
  {
   "cell_type": "code",
   "execution_count": null,
   "id": "57316313",
   "metadata": {},
   "outputs": [],
   "source": [
    "\n"
   ]
  },
  {
   "cell_type": "code",
   "execution_count": null,
   "id": "6505dc06",
   "metadata": {},
   "outputs": [],
   "source": [
    "\n"
   ]
  },
  {
   "cell_type": "markdown",
   "id": "5b685a0e",
   "metadata": {},
   "source": [
    "\n"
   ]
  },
  {
   "cell_type": "code",
   "execution_count": null,
   "id": "e3d18bfa",
   "metadata": {},
   "outputs": [],
   "source": [
    "\n"
   ]
  },
  {
   "cell_type": "code",
   "execution_count": null,
   "id": "3e0e7b23",
   "metadata": {},
   "outputs": [],
   "source": [
    "\n"
   ]
  },
  {
   "cell_type": "code",
   "execution_count": null,
   "id": "fd0e4d09",
   "metadata": {},
   "outputs": [],
   "source": [
    "\n"
   ]
  },
  {
   "cell_type": "code",
   "execution_count": null,
   "id": "17bd99a6",
   "metadata": {},
   "outputs": [],
   "source": [
    "\n"
   ]
  },
  {
   "cell_type": "code",
   "execution_count": null,
   "id": "0e3d2d91",
   "metadata": {},
   "outputs": [],
   "source": [
    "\n"
   ]
  },
  {
   "cell_type": "code",
   "execution_count": null,
   "id": "3d158007",
   "metadata": {},
   "outputs": [],
   "source": [
    "\n"
   ]
  },
  {
   "cell_type": "code",
   "execution_count": null,
   "id": "aba4c277",
   "metadata": {},
   "outputs": [],
   "source": [
    "\n"
   ]
  },
  {
   "cell_type": "code",
   "execution_count": null,
   "id": "1aea13b9",
   "metadata": {},
   "outputs": [],
   "source": [
    "import math\n"
   ]
  }
 ],
 "metadata": {
  "kernelspec": {
   "display_name": "langchain",
   "language": "python",
   "name": "python3"
  },
  "language_info": {
   "codemirror_mode": {
    "name": "ipython",
    "version": 3
   },
   "file_extension": ".py",
   "mimetype": "text/x-python",
   "name": "python",
   "nbconvert_exporter": "python",
   "pygments_lexer": "ipython3",
   "version": "3.11.13"
  }
 },
 "nbformat": 4,
 "nbformat_minor": 5
}
