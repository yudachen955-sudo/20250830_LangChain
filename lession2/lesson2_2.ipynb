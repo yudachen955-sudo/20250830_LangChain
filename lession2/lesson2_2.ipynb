{
 "cells": [
  {
   "cell_type": "code",
   "execution_count": 2,
   "id": "0915670f",
   "metadata": {},
   "outputs": [
    {
     "name": "stdout",
     "output_type": "stream",
     "text": [
      "您已成年，可以投票\n",
      "==============================\n",
      "不及格，需要重考\n",
      "==============================\n",
      "天氣舒適，適合外出\n",
      "==============================\n",
      "週末晴天，適合去公園散步\n",
      "==============================\n",
      "登入成功！\n",
      "==============================\n",
      "歡迎，小明！\n",
      "==============================\n",
      "分數：75，等級：C\n"
     ]
    }
   ],
   "source": [
    "# if 判斷式範例\n",
    "\n",
    "# 1. 基本 if 判斷 - 使用輸入\n",
    "age = int(input(\"請輸入您的年齡：\"))\n",
    "if age >= 18:\n",
    "    print(\"您已成年，可以投票\")\n",
    "else:\n",
    "    print(\"您未成年，還不能投票\")\n",
    "\n",
    "print(\"=\" * 30)\n",
    "\n",
    "# 2. if-else 判斷 - 使用輸入\n",
    "score = int(input(\"請輸入您的分數：\"))\n",
    "if score >= 60:\n",
    "    print(\"及格！\")\n",
    "else:\n",
    "    print(\"不及格，需要重考\")\n",
    "\n",
    "print(\"=\" * 30)\n",
    "\n",
    "# 3. if-elif-else 多重判斷\n",
    "temperature = 25\n",
    "if temperature > 30:\n",
    "    print(\"天氣很熱，建議待在室內\")\n",
    "elif temperature > 20:\n",
    "    print(\"天氣舒適，適合外出\")\n",
    "elif temperature > 10:\n",
    "    print(\"天氣涼爽，記得加件外套\")\n",
    "else:\n",
    "    print(\"天氣很冷，注意保暖\")\n",
    "\n",
    "print(\"=\" * 30)\n",
    "\n",
    "# 4. 巢狀 if 判斷\n",
    "is_weekend = True\n",
    "weather = \"晴天\"\n",
    "\n",
    "if is_weekend:\n",
    "    if weather == \"晴天\":\n",
    "        print(\"週末晴天，適合去公園散步\")\n",
    "    elif weather == \"雨天\":\n",
    "        print(\"週末下雨，在家看電影吧\")\n",
    "    else:\n",
    "        print(\"週末天氣一般，可以考慮室內活動\")\n",
    "else:\n",
    "    print(\"平日，專心工作學習\")\n",
    "\n",
    "print(\"=\" * 30)\n",
    "\n",
    "# 5. 邏輯運算子結合 if\n",
    "username = input(\"請輸入使用者名稱：\")\n",
    "password = input(\"請輸入密碼：\")\n",
    "\n",
    "if username == \"admin\" and password == \"123456\":\n",
    "    print(\"登入成功！\")\n",
    "else:\n",
    "    print(\"使用者名稱或密碼錯誤\")\n",
    "\n",
    "print(\"=\" * 30)\n",
    "\n",
    "# 6. 檢查變數是否存在\n",
    "name = \"小明\"\n",
    "if name:\n",
    "    print(f\"歡迎，{name}！\")\n",
    "else:\n",
    "    print(\"請輸入您的姓名\")\n",
    "\n",
    "print(\"=\" * 30)\n",
    "\n",
    "# 7. 數值範圍判斷\n",
    "number = 75\n",
    "if 0 <= number <= 100:\n",
    "    if number >= 90:\n",
    "        grade = \"A\"\n",
    "    elif number >= 80:\n",
    "        grade = \"B\"\n",
    "    elif number >= 70:\n",
    "        grade = \"C\"\n",
    "    elif number >= 60:\n",
    "        grade = \"D\"\n",
    "    else:\n",
    "        grade = \"F\"\n",
    "    print(f\"分數：{number}，等級：{grade}\")\n",
    "else:\n",
    "    print(\"分數超出有效範圍（0-100）\")\n"
   ]
  },
  {
   "cell_type": "code",
   "execution_count": 3,
   "id": "70a5a4b7",
   "metadata": {},
   "outputs": [
    {
     "name": "stdout",
     "output_type": "stream",
     "text": [
      "robert\n"
     ]
    }
   ],
   "source": [
    "is_nice:bool = False\n",
    "print(\"robert\")\n",
    "#單項選擇\n",
    "if is_nice:\n",
    "    print(\"他人不錯\")"
   ]
  },
  {
   "cell_type": "code",
   "execution_count": 4,
   "id": "254699c2",
   "metadata": {},
   "outputs": [
    {
     "name": "stdout",
     "output_type": "stream",
     "text": [
      "robert\n",
      "他人不錯\n"
     ]
    }
   ],
   "source": [
    "is_nice:bool = True\n",
    "print(\"robert\")\n",
    "#雙向選擇\n",
    "if is_nice:\n",
    "    print(\"他人不錯\")\n",
    "else:\n",
    "    print(\"它一般般\")"
   ]
  }
 ],
 "metadata": {
  "kernelspec": {
   "display_name": "langchain",
   "language": "python",
   "name": "python3"
  },
  "language_info": {
   "codemirror_mode": {
    "name": "ipython",
    "version": 3
   },
   "file_extension": ".py",
   "mimetype": "text/x-python",
   "name": "python",
   "nbconvert_exporter": "python",
   "pygments_lexer": "ipython3",
   "version": "3.11.13"
  }
 },
 "nbformat": 4,
 "nbformat_minor": 5
}
