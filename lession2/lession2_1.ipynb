{
 "cells": [
  {
   "cell_type": "markdown",
   "id": "b22478e3",
   "metadata": {},
   "source": [
    "# Python 數學運算教學\n",
    "\n",
    "本筆記本將介紹 Python 中的各種數學運算，包括基本運算、進階運算以及 math 模組的使用。"
   ]
  },
  {
   "cell_type": "markdown",
   "id": "1db95558",
   "metadata": {},
   "source": [
    "## 1. 基本數學運算\n",
    "\n",
    "Python 支援所有基本的數學運算符號：\n",
    "- `+` 加法\n",
    "- `-` 減法  \n",
    "- `*` 乘法\n",
    "- `/` 除法\n",
    "- `//` 整除（向下取整）\n",
    "- `%` 取餘數\n",
    "- `**` 指數運算\n"
   ]
  },
  {
   "cell_type": "code",
   "execution_count": null,
   "id": "e9b700cf",
   "metadata": {},
   "outputs": [],
   "source": [
    "# 基本數學運算範例\n",
    "a = 10\n",
    "b = 3\n",
    "\n",
    "print(f\"a = {a}, b = {b}\")\n",
    "print(f\"加法: {a} + {b} = {a + b}\")\n",
    "print(f\"減法: {a} - {b} = {a - b}\")\n",
    "print(f\"乘法: {a} * {b} = {a * b}\")\n",
    "print(f\"除法: {a} / {b} = {a / b}\")\n",
    "print(f\"整除: {a} // {b} = {a // b}\")\n",
    "print(f\"取餘: {a} % {b} = {a % b}\")\n",
    "print(f\"指數: {a} ** {b} = {a ** b}\")\n"
   ]
  },
  {
   "cell_type": "markdown",
   "id": "cab31ae6",
   "metadata": {},
   "source": [
    "## 2. 進階數學運算\n",
    "\n",
    "### 2.1 運算優先順序\n",
    "Python 遵循標準的數學運算優先順序：\n",
    "1. 括號 `()`\n",
    "2. 指數 `**`\n",
    "3. 乘法 `*`、除法 `/`、整除 `//`、取餘 `%`\n",
    "4. 加法 `+`、減法 `-`\n"
   ]
  },
  {
   "cell_type": "markdown",
   "id": "e5de653b",
   "metadata": {},
   "source": [
    "### 2.2 複合賦值運算符\n",
    "Python 提供複合賦值運算符，可以簡化程式碼：\n"
   ]
  },
  {
   "cell_type": "code",
   "execution_count": null,
   "id": "6019f8ac",
   "metadata": {},
   "outputs": [],
   "source": [
    "# 複合賦值運算符範例\n",
    "x = 10\n",
    "print(f\"初始值 x = {x}\")\n",
    "\n",
    "x += 5  # 等同於 x = x + 5\n",
    "print(f\"x += 5 後，x = {x}\")\n",
    "\n",
    "x -= 3  # 等同於 x = x - 3\n",
    "print(f\"x -= 3 後，x = {x}\")\n",
    "\n",
    "x *= 2  # 等同於 x = x * 2\n",
    "print(f\"x *= 2 後，x = {x}\")\n",
    "\n",
    "x /= 4  # 等同於 x = x / 4\n",
    "print(f\"x /= 4 後，x = {x}\")\n",
    "\n",
    "x **= 2  # 等同於 x = x ** 2\n",
    "print(f\"x **= 2 後，x = {x}\")\n"
   ]
  },
  {
   "cell_type": "markdown",
   "id": "53100dac",
   "metadata": {},
   "source": [
    "## 3. Math 模組\n",
    "\n",
    "Python 的 `math` 模組提供了許多進階的數學函數，包括：\n",
    "- 三角函數\n",
    "- 對數函數\n",
    "- 指數函數\n",
    "- 常數（如 π、e）\n",
    "- 其他數學函數\n"
   ]
  },
  {
   "cell_type": "code",
   "execution_count": null,
   "id": "1fdfe983",
   "metadata": {},
   "outputs": [],
   "source": [
    "import math\n",
    "\n",
    "# 數學常數\n",
    "print(\"數學常數：\")\n",
    "print(f\"π (pi) = {math.pi}\")\n",
    "print(f\"e = {math.e}\")\n",
    "print(f\"τ (tau) = {math.tau}\")\n",
    "\n",
    "# 基本數學函數\n",
    "print(\"\\n基本數學函數：\")\n",
    "print(f\"sqrt(16) = {math.sqrt(16)}\")  # 平方根\n",
    "print(f\"pow(2, 3) = {math.pow(2, 3)}\")  # 指數\n",
    "print(f\"abs(-5) = {abs(-5)}\")  # 絕對值\n",
    "print(f\"round(3.7) = {round(3.7)}\")  # 四捨五入\n",
    "print(f\"ceil(3.2) = {math.ceil(3.2)}\")  # 向上取整\n",
    "print(f\"floor(3.8) = {math.floor(3.8)}\")  # 向下取整\n"
   ]
  },
  {
   "cell_type": "code",
   "execution_count": null,
   "id": "577576ef",
   "metadata": {},
   "outputs": [],
   "source": [
    "# 對數函數\n",
    "print(\"對數函數：\")\n",
    "print(f\"log(e) = {math.log(math.e)}\")  # 自然對數\n",
    "print(f\"log10(100) = {math.log10(100)}\")  # 以10為底的對數\n",
    "print(f\"log2(8) = {math.log2(8)}\")  # 以2為底的對數\n",
    "\n",
    "# 三角函數（角度以弧度為單位）\n",
    "print(\"\\n三角函數：\")\n",
    "angle_rad = math.pi / 4  # 45度 = π/4 弧度\n",
    "print(f\"sin(π/4) = {math.sin(angle_rad):.4f}\")\n",
    "print(f\"cos(π/4) = {math.cos(angle_rad):.4f}\")\n",
    "print(f\"tan(π/4) = {math.tan(angle_rad):.4f}\")\n",
    "\n",
    "# 角度與弧度轉換\n",
    "print(\"\\n角度與弧度轉換：\")\n",
    "degrees = 90\n",
    "radians = math.radians(degrees)\n",
    "print(f\"{degrees}度 = {radians:.4f} 弧度\")\n",
    "print(f\"{radians:.4f} 弧度 = {math.degrees(radians):.4f}度\")\n"
   ]
  },
  {
   "cell_type": "markdown",
   "id": "959c4355",
   "metadata": {},
   "source": [
    "## 4. 實用範例\n",
    "\n",
    "讓我們來看一些實際應用中的數學運算範例：\n"
   ]
  },
  {
   "cell_type": "code",
   "execution_count": null,
   "id": "4068185e",
   "metadata": {},
   "outputs": [],
   "source": [
    "# 範例1：計算圓的面積和周長\n",
    "def circle_calculations(radius):\n",
    "    \"\"\"計算圓的面積和周長\"\"\"\n",
    "    area = math.pi * radius ** 2\n",
    "    circumference = 2 * math.pi * radius\n",
    "    return area, circumference\n",
    "\n",
    "radius = 5\n",
    "area, circumference = circle_calculations(radius)\n",
    "print(f\"半徑為 {radius} 的圓：\")\n",
    "print(f\"面積 = {area:.2f}\")\n",
    "print(f\"周長 = {circumference:.2f}\")\n"
   ]
  },
  {
   "cell_type": "code",
   "execution_count": null,
   "id": "722f7fdb",
   "metadata": {},
   "outputs": [],
   "source": [
    "# 範例2：計算複利\n",
    "def compound_interest(principal, rate, time, compound_frequency=12):\n",
    "    \"\"\"\n",
    "    計算複利\n",
    "    principal: 本金\n",
    "    rate: 年利率（小數形式，如0.05表示5%）\n",
    "    time: 時間（年）\n",
    "    compound_frequency: 複利頻率（每年複利次數）\n",
    "    \"\"\"\n",
    "    amount = principal * (1 + rate / compound_frequency) ** (compound_frequency * time)\n",
    "    interest = amount - principal\n",
    "    return amount, interest\n",
    "\n",
    "# 計算10年後的本利和\n",
    "principal = 10000  # 本金1萬元\n",
    "rate = 0.05  # 年利率5%\n",
    "time = 10  # 10年\n",
    "\n",
    "amount, interest = compound_interest(principal, rate, time)\n",
    "print(f\"本金：{principal:,} 元\")\n",
    "print(f\"年利率：{rate*100}%\")\n",
    "print(f\"時間：{time} 年\")\n",
    "print(f\"本利和：{amount:,.2f} 元\")\n",
    "print(f\"利息：{interest:,.2f} 元\")\n"
   ]
  },
  {
   "cell_type": "code",
   "execution_count": null,
   "id": "779a906a",
   "metadata": {},
   "outputs": [],
   "source": [
    "# 範例4：溫度轉換\n",
    "def celsius_to_fahrenheit(celsius):\n",
    "    \"\"\"攝氏溫度轉華氏溫度\"\"\"\n",
    "    return (celsius * 9/5) + 32\n",
    "\n",
    "def fahrenheit_to_celsius(fahrenheit):\n",
    "    \"\"\"華氏溫度轉攝氏溫度\"\"\"\n",
    "    return (fahrenheit - 32) * 5/9\n",
    "\n",
    "# 溫度轉換範例\n",
    "celsius_temp = 25\n",
    "fahrenheit_temp = celsius_to_fahrenheit(celsius_temp)\n",
    "print(f\"{celsius_temp}°C = {fahrenheit_temp:.1f}°F\")\n",
    "\n",
    "fahrenheit_temp = 77\n",
    "celsius_temp = fahrenheit_to_celsius(fahrenheit_temp)\n",
    "print(f\"{fahrenheit_temp}°F = {celsius_temp:.1f}°C\")\n"
   ]
  },
  {
   "cell_type": "code",
   "execution_count": null,
   "id": "a2dbe4cd",
   "metadata": {},
   "outputs": [],
   "source": [
    "# 範例3：計算兩點之間的距離\n",
    "def distance_between_points(x1, y1, x2, y2):\n",
    "    \"\"\"計算兩點之間的歐幾里得距離\"\"\"\n",
    "    return math.sqrt((x2 - x1)**2 + (y2 - y1)**2)\n",
    "\n",
    "# 計算點A(1, 2)和點B(4, 6)之間的距離\n",
    "x1, y1 = 1, 2\n",
    "x2, y2 = 4, 6\n",
    "distance = distance_between_points(x1, y1, x2, y2)\n",
    "print(f\"點A({x1}, {y1})和點B({x2}, {y2})之間的距離：{distance:.2f}\")\n"
   ]
  },
  {
   "cell_type": "markdown",
   "id": "399aceb3",
   "metadata": {},
   "source": [
    "## 5. 總結\n",
    "\n",
    "本筆記本涵蓋了 Python 數學運算的主要內容：\n",
    "\n",
    "1. **基本運算符**：加減乘除、整除、取餘、指數\n",
    "2. **運算優先順序**：括號、指數、乘除、加減\n",
    "3. **複合賦值運算符**：簡化程式碼的寫法\n",
    "4. **Math 模組**：提供進階數學函數和常數\n",
    "5. **實用範例**：圓的計算、複利計算、距離計算、溫度轉換\n",
    "\n",
    "這些知識是 Python 程式設計的基礎，在數據分析、科學計算、機器學習等領域都會經常使用到。\n"
   ]
  },
  {
   "cell_type": "code",
   "execution_count": null,
   "id": "0a451386",
   "metadata": {},
   "outputs": [],
   "source": [
    "# 運算優先順序範例\n",
    "print(\"運算優先順序範例：\")\n",
    "print(f\"2 + 3 * 4 = {2 + 3 * 4}\")  # 先乘後加\n",
    "print(f\"(2 + 3) * 4 = {(2 + 3) * 4}\")  # 括號優先\n",
    "print(f\"2 ** 3 * 4 = {2 ** 3 * 4}\")  # 先指數後乘\n",
    "print(f\"2 ** (3 * 4) = {2 ** (3 * 4)}\")  # 括號優先\n"
   ]
  }
 ],
 "metadata": {
  "kernelspec": {
   "display_name": "langchain",
   "language": "python",
   "name": "python3"
  },
  "language_info": {
   "name": "python",
   "version": "3.11.13"
  }
 },
 "nbformat": 4,
 "nbformat_minor": 5
}
